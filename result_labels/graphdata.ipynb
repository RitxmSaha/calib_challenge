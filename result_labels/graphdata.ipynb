{
 "cells": [
  {
   "cell_type": "code",
   "execution_count": null,
   "metadata": {},
   "outputs": [],
   "source": [
    "import matplotlib.pyplot as plt\n",
    "import pandas as pd\n",
    "\n",
    "# Assuming the file '0.txt' is formatted with two columns separated by spaces\n",
    "# The first column is 'pitch' and the second is 'yaw'\n",
    "\n",
    "# Load the data from the file\n",
    "data = pd.read_csv('/Users/ritamsaha/Desktop/whereabouts/calib_challenge/labeled/0.txt', sep=' ', header=None, names=['pitch', 'yaw'])\n",
    "\n",
    "# Plotting\n",
    "plt.figure(figsize=(10,6))\n",
    "plt.plot(data['pitch'], label='Pitch')\n",
    "plt.plot(data['yaw'], label='Yaw')\n",
    "plt.xlabel('Sample Number')\n",
    "plt.ylabel('Angle (degrees)')\n",
    "plt.title('Pitch and Yaw over Time')\n",
    "plt.legend()\n",
    "plt.grid(True)\n",
    "plt.show()\n"
   ]
  }
 ],
 "metadata": {
  "language_info": {
   "name": "python"
  },
  "orig_nbformat": 4
 },
 "nbformat": 4,
 "nbformat_minor": 2
}
