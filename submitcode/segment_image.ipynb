{
 "cells": [
  {
   "cell_type": "code",
   "execution_count": 6,
   "metadata": {},
   "outputs": [],
   "source": [
    "import cv2\n",
    "import numpy as np\n",
    "import os\n",
    "import torch\n",
    "from PIL import Image\n",
    "import numpy as np\n",
    "import matplotlib.pyplot as plt\n",
    "from ultralytics import YOLO\n",
    "model = YOLO(\"yolov8x-seg.pt\")"
   ]
  },
  {
   "cell_type": "code",
   "execution_count": 4,
   "metadata": {},
   "outputs": [],
   "source": [
    "def save_video_frames(video_path, output_directory):\n",
    "    # Create the output directory if it doesn't exist\n",
    "    if not os.path.exists(output_directory):\n",
    "        os.makedirs(output_directory)\n",
    "    cap = cv2.VideoCapture(video_path)\n",
    "\n",
    "    frame_count = 0\n",
    "\n",
    "    while cap.isOpened():\n",
    "        ret, frame = cap.read()\n",
    "        if not ret:\n",
    "            break\n",
    "        frame_filename = os.path.join(output_directory, f\"{frame_count}.jpg\")\n",
    "        cv2.imwrite(frame_filename, frame)\n",
    "        frame_count += 1\n",
    "    cap.release()"
   ]
  },
  {
   "cell_type": "code",
   "execution_count": 15,
   "metadata": {},
   "outputs": [],
   "source": [
    "def remove_cars(video_num):\n",
    "    for i in range(0,1200):\n",
    "        source = f\"{video_num}/{i}.jpg\"\n",
    "        image = cv2.imread(source)\n",
    "        image = cv2.cvtColor(image, cv2.COLOR_BGR2RGB) \n",
    "        results = model.predict(source, conf=0.2, classes=[2,3,5,7])\n",
    "        if(results[0].masks == None):\n",
    "            save_path = f\"{video_num}/{i}.jpg\"\n",
    "            image_to_save = cv2.cvtColor(image, cv2.COLOR_RGB2BGR)\n",
    "            cv2.imwrite(save_path, image_to_save)\n",
    "            continue \n",
    "\n",
    "        for object in results[0].masks.xy:        \n",
    "            polygons = []\n",
    "            for point in object:\n",
    "                x_coords = np.clip(point[0].astype(int), 0, image.shape[1] - 1)\n",
    "                y_coords = np.clip(point[1].astype(int), 0, image.shape[0] - 1)\n",
    "                polygons.append([x_coords, y_coords])\n",
    "\n",
    "            polygons = np.array(polygons)\n",
    "            if(len(polygons) == 0):\n",
    "                continue\n",
    "\n",
    "            binary_mask = np.zeros(image.shape[:2], dtype=np.uint8)\n",
    "            cv2.fillPoly(binary_mask, pts=[polygons], color=255)\n",
    "            blurred_mask = cv2.GaussianBlur(binary_mask, (31, 31), 0)\n",
    "\n",
    "            black_image = np.zeros_like(image)\n",
    "            image = np.where(blurred_mask[..., np.newaxis] > 0, black_image, image)   \n",
    "\n",
    "        save_path = f\"{video_num}/{i}.jpg\"\n",
    "        image_to_save = cv2.cvtColor(image, cv2.COLOR_RGB2BGR)\n",
    "        cv2.imwrite(save_path, image_to_save) "
   ]
  },
  {
   "cell_type": "code",
   "execution_count": null,
   "metadata": {},
   "outputs": [],
   "source": [
    "def remove_front(dir): \n",
    "    for i in range(0,1200): #note, video 4 has 1196 frames, named 0-1195\n",
    "        img_path = dir+\"/\"+str(i)+\".jpg\"\n",
    "        with Image.open(img_path) as img:\n",
    "            if img.mode != 'RGB':\n",
    "                img = img.convert('RGB')\n",
    "            img_array = np.array(img)\n",
    "\n",
    "        panel_height = img_array.shape[0] // 4\n",
    "\n",
    "        img_array[-panel_height:] = [0, 0, 0]\n",
    "\n",
    "\n",
    "        cv2.imwrite(img_path, cv2.cvtColor(img_array, cv2.COLOR_RGB2BGR))"
   ]
  },
  {
   "cell_type": "code",
   "execution_count": null,
   "metadata": {},
   "outputs": [],
   "source": [
    "for i in range(5,10):\n",
    "    save_video_frames(dir+\".mp4\",dir)\n",
    "    remove_cars(dir+\"\")\n",
    "    remove_front(dir)"
   ]
  }
 ],
 "metadata": {
  "kernelspec": {
   "display_name": "cv",
   "language": "python",
   "name": "python3"
  },
  "language_info": {
   "codemirror_mode": {
    "name": "ipython",
    "version": 3
   },
   "file_extension": ".py",
   "mimetype": "text/x-python",
   "name": "python",
   "nbconvert_exporter": "python",
   "pygments_lexer": "ipython3",
   "version": "3.10.12"
  },
  "orig_nbformat": 4
 },
 "nbformat": 4,
 "nbformat_minor": 2
}
